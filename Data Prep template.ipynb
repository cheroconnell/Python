{
 "cells": [
  {
   "cell_type": "markdown",
   "id": "a2e61266",
   "metadata": {},
   "source": [
    "<B><H2> Data preparation template</H2></B>\n",
    "\n",
    "cherry o'connell"
   ]
  },
  {
   "cell_type": "code",
   "execution_count": null,
   "id": "436a8bcb",
   "metadata": {},
   "outputs": [],
   "source": [
    "#import all required libraries\n",
    "import pandas as pd\n",
    "import numpy as np\n",
    "import matplotlib.pyplot as plt\n",
    "import seaborn as sns\n",
    "\n",
    "#remove warnings\n",
    "import warnings\n",
    "warnings.filterwarnings('ignore')"
   ]
  },
  {
   "cell_type": "code",
   "execution_count": null,
   "id": "4afe6265",
   "metadata": {},
   "outputs": [],
   "source": [
    "#read data and display first 5 rows. change source of data (sample_data.csv)\n",
    "\n",
    "data = pd.read_csv('sample_data.csv')\n",
    "data.head()"
   ]
  },
  {
   "cell_type": "code",
   "execution_count": null,
   "id": "34e1b6e6",
   "metadata": {},
   "outputs": [],
   "source": [
    "#display last row\n",
    "\n",
    "data.tail()"
   ]
  },
  {
   "cell_type": "code",
   "execution_count": null,
   "id": "c6751bbf",
   "metadata": {},
   "outputs": [],
   "source": [
    "#display data columns\n",
    "\n",
    "data.columns"
   ]
  },
  {
   "cell_type": "code",
   "execution_count": null,
   "id": "e25e00aa",
   "metadata": {},
   "outputs": [],
   "source": [
    "#drop unnecessary column. change 'sample_column' to column that needs to be dropped\n",
    "\n",
    "data.drop('sample_column: 0', inplace=True, axis=1) "
   ]
  },
  {
   "cell_type": "code",
   "execution_count": null,
   "id": "9769f044",
   "metadata": {},
   "outputs": [],
   "source": [
    "#display data shape\n",
    "\n",
    "data.shape"
   ]
  },
  {
   "cell_type": "code",
   "execution_count": null,
   "id": "ca9c0cae",
   "metadata": {},
   "outputs": [],
   "source": [
    "#display data information\n",
    "\n",
    "data.info()"
   ]
  },
  {
   "cell_type": "code",
   "execution_count": null,
   "id": "7ef5b41d",
   "metadata": {},
   "outputs": [],
   "source": [
    "#numerical data summary or statistics summary\n",
    "\n",
    "data.describe()"
   ]
  },
  {
   "cell_type": "code",
   "execution_count": null,
   "id": "0e4dfe2b",
   "metadata": {},
   "outputs": [],
   "source": [
    "data.describe().T"
   ]
  },
  {
   "cell_type": "code",
   "execution_count": null,
   "id": "e1f8689f",
   "metadata": {},
   "outputs": [],
   "source": [
    "#display statistical summary of all data including object, etc.\n",
    "\n",
    "data.describe(include='all').T"
   ]
  },
  {
   "cell_type": "markdown",
   "id": "e936cce9",
   "metadata": {},
   "source": [
    "<B> <H3> DATA CLEANING </H3> </B> \n",
    "\n",
    "<B> DUPLICATES </B>\n",
    "\n",
    "It is essential to address duplicates in a dataset"
   ]
  },
  {
   "cell_type": "code",
   "execution_count": null,
   "id": "626fc317",
   "metadata": {},
   "outputs": [],
   "source": [
    "data.nunique()"
   ]
  },
  {
   "cell_type": "code",
   "execution_count": null,
   "id": "4f894d40",
   "metadata": {},
   "outputs": [],
   "source": [
    "data.duplicated().sum()."
   ]
  },
  {
   "cell_type": "code",
   "execution_count": null,
   "id": "140202fc",
   "metadata": {},
   "outputs": [],
   "source": [
    "x = data['crime id'].value_counts().loc[lambda x : x>1]\n",
    "y = x.count()\n",
    "y"
   ]
  },
  {
   "cell_type": "code",
   "execution_count": null,
   "id": "b45cb5ee",
   "metadata": {},
   "outputs": [],
   "source": [
    "#drop duplicates in a specific column\n",
    "\n",
    "data = data.drop_duplicates(subset=['duplicate_column'])"
   ]
  },
  {
   "cell_type": "code",
   "execution_count": null,
   "id": "a5771bec",
   "metadata": {},
   "outputs": [],
   "source": [
    "#drop all duplicates\n",
    "\n",
    "data.drop_duplicates()"
   ]
  },
  {
   "cell_type": "code",
   "execution_count": null,
   "id": "f944deef",
   "metadata": {},
   "outputs": [],
   "source": [
    "#confirm there are no duplicates left\n",
    "\n",
    "x = data['crime id'].value_counts().loc[lambda x : x>1]\n",
    "y = x.count()\n",
    "y"
   ]
  },
  {
   "cell_type": "code",
   "execution_count": null,
   "id": "9f609d41",
   "metadata": {},
   "outputs": [],
   "source": [
    "#check data info again\n",
    "\n",
    "data.info()"
   ]
  },
  {
   "cell_type": "markdown",
   "id": "e6b24a0f",
   "metadata": {},
   "source": [
    "<B> NULL VALUES </B>\n",
    "\n",
    "It is important to inspect and understand what are the null values and why there are such values in the data. You can then decide if you have to drop them or impute new values e.g., mean, median, or zero, etc."
   ]
  },
  {
   "cell_type": "code",
   "execution_count": null,
   "id": "47ae400b",
   "metadata": {},
   "outputs": [],
   "source": [
    "#check for null values in dataset\n",
    "\n",
    "data.isna().sum()"
   ]
  },
  {
   "cell_type": "code",
   "execution_count": null,
   "id": "a19979d9",
   "metadata": {},
   "outputs": [],
   "source": [
    "#visualise the null values\n",
    "\n",
    "plt.figure(figsize = (8,7))\n",
    "sns.heatmap(data.isnull(), yticklabels=False, cbar=False, cmap='viridis')\n",
    "plt.show()\n",
    "plt.savefig('Missing Values')"
   ]
  },
  {
   "cell_type": "code",
   "execution_count": null,
   "id": "5a18a528",
   "metadata": {},
   "outputs": [],
   "source": [
    "#use if you have drop null values\n",
    "\n",
    "data.dropna()"
   ]
  },
  {
   "cell_type": "code",
   "execution_count": null,
   "id": "9499e26b",
   "metadata": {},
   "outputs": [],
   "source": [
    "#use if you have change null values to zero\n",
    "\n",
    "data.loc[data[\"null_column\"]==0.0,'null_column']=np.nan\n",
    "data.null_column.isnull().sum()"
   ]
  },
  {
   "cell_type": "code",
   "execution_count": null,
   "id": "e173e302",
   "metadata": {},
   "outputs": [],
   "source": [
    "#use if you have impute null values with other value e.g., mean value\n",
    "\n",
    "data['null_column'].fillna(value=np.mean(data['null_column']),inplace=True)"
   ]
  },
  {
   "cell_type": "code",
   "execution_count": null,
   "id": "9921050f",
   "metadata": {},
   "outputs": [],
   "source": [
    "#fill in nulls with another value e.g., 'Other not Known'\n",
    "\n",
    "data['null_column'] = data['null_column'].fillna('Other not Known')"
   ]
  },
  {
   "cell_type": "code",
   "execution_count": null,
   "id": "05548acd",
   "metadata": {},
   "outputs": [],
   "source": [
    "#drop remaining nulls that can not be filled\n",
    "\n",
    "data.dropna(inplace=True)"
   ]
  },
  {
   "cell_type": "code",
   "execution_count": null,
   "id": "9a7c6984",
   "metadata": {},
   "outputs": [],
   "source": [
    "# re-check for null values in dataset\n",
    "\n",
    "data.isna().sum()"
   ]
  },
  {
   "cell_type": "code",
   "execution_count": null,
   "id": "08b84c3d",
   "metadata": {},
   "outputs": [],
   "source": [
    "#after cleaning, display numerical and categorical variables separately\n",
    "\n",
    "cat_cols = data.select_dtypes(include=['object']).columns\n",
    "num_cols = data.select_dtypes(include=np.number).columns.tolist()\n",
    "print(\"Categorical Variables:\")\n",
    "print(cat_cols)\n",
    "print(\"Numerical Variables:\")\n",
    "print(num_cols)"
   ]
  },
  {
   "cell_type": "markdown",
   "id": "2f2dc2dd",
   "metadata": {},
   "source": []
  }
 ],
 "metadata": {
  "kernelspec": {
   "display_name": "Python 3 (ipykernel)",
   "language": "python",
   "name": "python3"
  },
  "language_info": {
   "codemirror_mode": {
    "name": "ipython",
    "version": 3
   },
   "file_extension": ".py",
   "mimetype": "text/x-python",
   "name": "python",
   "nbconvert_exporter": "python",
   "pygments_lexer": "ipython3",
   "version": "3.9.12"
  }
 },
 "nbformat": 4,
 "nbformat_minor": 5
}
